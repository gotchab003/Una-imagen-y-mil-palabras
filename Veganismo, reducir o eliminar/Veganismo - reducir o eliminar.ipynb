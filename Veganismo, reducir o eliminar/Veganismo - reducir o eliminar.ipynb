{
 "cells": [
  {
   "cell_type": "markdown",
   "metadata": {},
   "source": [
    "# Consumo de carne: ¿reducir o eliminar?\n",
    "\n",
    "El objetivo de este análisis es trabajar con una encuesta realizada por Faunalytics a diversas personas. El experimento consistió en mostrarle a los encuestados uno de dos videos, de los cuales uno de ellos abogaba por la reducción del consumo de carne y el otro por la eliminación, con el objetivo de definir la mejor estrategia de defensa de los derechos de los animales.\n",
    "\n",
    "Luego de ver el video, debían responder una serie de preguntas referentes a su estado de ánimo, tipo de dieta y, lo más importante para este análisis, sobre especismo y si estaban dispuestos a comprometerse a reducir o eliminar (dependiendo del video que hayan visto) el consumo de carne.\n",
    "\n",
    "Decidí enfocarme en la gente de entre 18 y 30 años, edades más frecuentes y que son consideradas más flexibles a la hora de adoptar cambios.\n",
    "\n",
    "*Fuentes*\n",
    "* [Encuesta Faunalytics](https://osf.io/kdjnc/)\n",
    "* [Score de especismo](https://static1.squarespace.com/static/59e80366a9db098f5ce8f8ad/t/5a39937b9140b7ca9c597bd9/1513722751608/Caviola-Everett-and-Faber-2018-Speciesism-JPSP-Pre-Print.pdf)"
   ]
  },
  {
   "cell_type": "markdown",
   "metadata": {},
   "source": [
    "## Importación de librerías a utilizar en el análisis\n",
    "\n",
    "Utilizaremos Pandas para trabajar sobre el dataset en forma de objeto DataFrame, NumPy para realizar posibles operaciones matemáticas entre arrays, y Matplotlib y Seaborn como herramientas de visualización. Importamos las librerías, creamos el dataset y observamos la información general, como nombres de columnas, tamaño del dataset, valores faltantes, entre otras características."
   ]
  },
  {
   "cell_type": "code",
   "execution_count": 103,
   "metadata": {},
   "outputs": [],
   "source": [
    "import pandas as pd\n",
    "import numpy as np\n",
    "import matplotlib.pyplot as plt\n",
    "import seaborn as sns"
   ]
  },
  {
   "cell_type": "code",
   "execution_count": 104,
   "metadata": {},
   "outputs": [],
   "source": [
    "data = pd.read_csv('Reduce-Veg Data - cleaned.csv', encoding='cp1252')"
   ]
  },
  {
   "cell_type": "code",
   "execution_count": 105,
   "metadata": {
    "scrolled": true
   },
   "outputs": [
    {
     "name": "stdout",
     "output_type": "stream",
     "text": [
      "<class 'pandas.core.frame.DataFrame'>\n",
      "RangeIndex: 833 entries, 0 to 832\n",
      "Data columns (total 54 columns):\n",
      "Duration (in seconds)    833 non-null int64\n",
      "Finished                 833 non-null bool\n",
      "RecordedDate             833 non-null object\n",
      "age                      833 non-null int64\n",
      "prev.participant         833 non-null object\n",
      "diet_1                   63 non-null object\n",
      "diet_2                   26 non-null object\n",
      "diet_9                   87 non-null object\n",
      "diet_3                   10 non-null object\n",
      "diet_4                   33 non-null object\n",
      "diet_5                   2 non-null object\n",
      "diet_10                  69 non-null object\n",
      "diet_6                   0 non-null float64\n",
      "diet_7                   55 non-null object\n",
      "diet_8                   544 non-null object\n",
      "diet_7_TEXT              54 non-null object\n",
      "happy                    833 non-null object\n",
      "bored                    831 non-null object\n",
      "proud                    833 non-null object\n",
      "angry                    833 non-null object\n",
      "hopeful                  832 non-null object\n",
      "red.open                 202 non-null object\n",
      "elim.open                198 non-null object\n",
      "control.open             401 non-null object\n",
      "speciesism_1             829 non-null object\n",
      "speciesism_2             831 non-null object\n",
      "speciesism_3             830 non-null object\n",
      "speciesism_4             831 non-null object\n",
      "speciesism_5             828 non-null object\n",
      "speciesism_6             829 non-null object\n",
      "gender                   831 non-null object\n",
      "gender_3_TEXT            9 non-null object\n",
      "status                   832 non-null object\n",
      "status_5_TEXT            4 non-null object\n",
      "elim.pledge              414 non-null object\n",
      "red.pledge               418 non-null object\n",
      "ID                       833 non-null object\n",
      "notes_7                  817 non-null object\n",
      "notes_1                  1 non-null object\n",
      "notes_2                  2 non-null object\n",
      "notes_3                  1 non-null object\n",
      "notes_4                  9 non-null object\n",
      "notes_5                  0 non-null float64\n",
      "notes_6                  4 non-null object\n",
      "notes_3_TEXT             1 non-null object\n",
      "notes_4_TEXT             9 non-null object\n",
      "notes_5_TEXT             0 non-null float64\n",
      "notes_6_TEXT             4 non-null object\n",
      "excluded                 0 non-null float64\n",
      "condition                833 non-null object\n",
      "date                     617 non-null object\n",
      "purchase                 617 non-null object\n",
      "meatveg                  617 non-null object\n",
      "meatveg2                 617 non-null object\n",
      "dtypes: bool(1), float64(4), int64(2), object(47)\n",
      "memory usage: 345.9+ KB\n"
     ]
    }
   ],
   "source": [
    "data.info()"
   ]
  },
  {
   "cell_type": "code",
   "execution_count": 106,
   "metadata": {
    "scrolled": true
   },
   "outputs": [
    {
     "data": {
      "text/html": [
       "<div>\n",
       "<style scoped>\n",
       "    .dataframe tbody tr th:only-of-type {\n",
       "        vertical-align: middle;\n",
       "    }\n",
       "\n",
       "    .dataframe tbody tr th {\n",
       "        vertical-align: top;\n",
       "    }\n",
       "\n",
       "    .dataframe thead th {\n",
       "        text-align: right;\n",
       "    }\n",
       "</style>\n",
       "<table border=\"1\" class=\"dataframe\">\n",
       "  <thead>\n",
       "    <tr style=\"text-align: right;\">\n",
       "      <th></th>\n",
       "      <th>Duration (in seconds)</th>\n",
       "      <th>Finished</th>\n",
       "      <th>RecordedDate</th>\n",
       "      <th>age</th>\n",
       "      <th>prev.participant</th>\n",
       "      <th>diet_1</th>\n",
       "      <th>diet_2</th>\n",
       "      <th>diet_9</th>\n",
       "      <th>diet_3</th>\n",
       "      <th>diet_4</th>\n",
       "      <th>...</th>\n",
       "      <th>notes_3_TEXT</th>\n",
       "      <th>notes_4_TEXT</th>\n",
       "      <th>notes_5_TEXT</th>\n",
       "      <th>notes_6_TEXT</th>\n",
       "      <th>excluded</th>\n",
       "      <th>condition</th>\n",
       "      <th>date</th>\n",
       "      <th>purchase</th>\n",
       "      <th>meatveg</th>\n",
       "      <th>meatveg2</th>\n",
       "    </tr>\n",
       "  </thead>\n",
       "  <tbody>\n",
       "    <tr>\n",
       "      <td>0</td>\n",
       "      <td>695</td>\n",
       "      <td>True</td>\n",
       "      <td>9/13/2019 12:29</td>\n",
       "      <td>22</td>\n",
       "      <td>No, I promise that I haven’t done this before</td>\n",
       "      <td>Food allergy (nuts, shellfish, etc.)</td>\n",
       "      <td>NaN</td>\n",
       "      <td>NaN</td>\n",
       "      <td>NaN</td>\n",
       "      <td>NaN</td>\n",
       "      <td>...</td>\n",
       "      <td>NaN</td>\n",
       "      <td>NaN</td>\n",
       "      <td>NaN</td>\n",
       "      <td>NaN</td>\n",
       "      <td>NaN</td>\n",
       "      <td>control with elim pledge</td>\n",
       "      <td>13-Sep</td>\n",
       "      <td>FP</td>\n",
       "      <td>veg</td>\n",
       "      <td>vegprot</td>\n",
       "    </tr>\n",
       "    <tr>\n",
       "      <td>1</td>\n",
       "      <td>542</td>\n",
       "      <td>True</td>\n",
       "      <td>9/13/2019 12:39</td>\n",
       "      <td>20</td>\n",
       "      <td>No, I promise that I haven’t done this before</td>\n",
       "      <td>NaN</td>\n",
       "      <td>NaN</td>\n",
       "      <td>NaN</td>\n",
       "      <td>NaN</td>\n",
       "      <td>NaN</td>\n",
       "      <td>...</td>\n",
       "      <td>NaN</td>\n",
       "      <td>NaN</td>\n",
       "      <td>NaN</td>\n",
       "      <td>NaN</td>\n",
       "      <td>NaN</td>\n",
       "      <td>control with reduce pledge</td>\n",
       "      <td>NaN</td>\n",
       "      <td>NaN</td>\n",
       "      <td>NaN</td>\n",
       "      <td>NaN</td>\n",
       "    </tr>\n",
       "    <tr>\n",
       "      <td>2</td>\n",
       "      <td>355</td>\n",
       "      <td>True</td>\n",
       "      <td>9/13/2019 12:58</td>\n",
       "      <td>18</td>\n",
       "      <td>No, I promise that I haven’t done this before</td>\n",
       "      <td>Food allergy (nuts, shellfish, etc.)</td>\n",
       "      <td>NaN</td>\n",
       "      <td>NaN</td>\n",
       "      <td>NaN</td>\n",
       "      <td>NaN</td>\n",
       "      <td>...</td>\n",
       "      <td>NaN</td>\n",
       "      <td>NaN</td>\n",
       "      <td>NaN</td>\n",
       "      <td>NaN</td>\n",
       "      <td>NaN</td>\n",
       "      <td>reduce</td>\n",
       "      <td>NaN</td>\n",
       "      <td>NaN</td>\n",
       "      <td>NaN</td>\n",
       "      <td>NaN</td>\n",
       "    </tr>\n",
       "    <tr>\n",
       "      <td>3</td>\n",
       "      <td>458</td>\n",
       "      <td>True</td>\n",
       "      <td>9/13/2019 13:10</td>\n",
       "      <td>24</td>\n",
       "      <td>No, I promise that I haven’t done this before</td>\n",
       "      <td>NaN</td>\n",
       "      <td>NaN</td>\n",
       "      <td>NaN</td>\n",
       "      <td>NaN</td>\n",
       "      <td>NaN</td>\n",
       "      <td>...</td>\n",
       "      <td>NaN</td>\n",
       "      <td>NaN</td>\n",
       "      <td>NaN</td>\n",
       "      <td>NaN</td>\n",
       "      <td>NaN</td>\n",
       "      <td>eliminate</td>\n",
       "      <td>NaN</td>\n",
       "      <td>NaN</td>\n",
       "      <td>NaN</td>\n",
       "      <td>NaN</td>\n",
       "    </tr>\n",
       "    <tr>\n",
       "      <td>4</td>\n",
       "      <td>521</td>\n",
       "      <td>True</td>\n",
       "      <td>9/13/2019 13:20</td>\n",
       "      <td>26</td>\n",
       "      <td>No, I promise that I haven’t done this before</td>\n",
       "      <td>NaN</td>\n",
       "      <td>NaN</td>\n",
       "      <td>NaN</td>\n",
       "      <td>NaN</td>\n",
       "      <td>NaN</td>\n",
       "      <td>...</td>\n",
       "      <td>NaN</td>\n",
       "      <td>NaN</td>\n",
       "      <td>NaN</td>\n",
       "      <td>NaN</td>\n",
       "      <td>NaN</td>\n",
       "      <td>control with reduce pledge</td>\n",
       "      <td>13-Sep</td>\n",
       "      <td>FP</td>\n",
       "      <td>veg</td>\n",
       "      <td>vegprot</td>\n",
       "    </tr>\n",
       "  </tbody>\n",
       "</table>\n",
       "<p>5 rows × 54 columns</p>\n",
       "</div>"
      ],
      "text/plain": [
       "   Duration (in seconds)  Finished     RecordedDate  age  \\\n",
       "0                    695      True  9/13/2019 12:29   22   \n",
       "1                    542      True  9/13/2019 12:39   20   \n",
       "2                    355      True  9/13/2019 12:58   18   \n",
       "3                    458      True  9/13/2019 13:10   24   \n",
       "4                    521      True  9/13/2019 13:20   26   \n",
       "\n",
       "                                prev.participant  \\\n",
       "0  No, I promise that I haven’t done this before   \n",
       "1  No, I promise that I haven’t done this before   \n",
       "2  No, I promise that I haven’t done this before   \n",
       "3  No, I promise that I haven’t done this before   \n",
       "4  No, I promise that I haven’t done this before   \n",
       "\n",
       "                                 diet_1 diet_2 diet_9 diet_3 diet_4  ...  \\\n",
       "0  Food allergy (nuts, shellfish, etc.)    NaN    NaN    NaN    NaN  ...   \n",
       "1                                   NaN    NaN    NaN    NaN    NaN  ...   \n",
       "2  Food allergy (nuts, shellfish, etc.)    NaN    NaN    NaN    NaN  ...   \n",
       "3                                   NaN    NaN    NaN    NaN    NaN  ...   \n",
       "4                                   NaN    NaN    NaN    NaN    NaN  ...   \n",
       "\n",
       "  notes_3_TEXT notes_4_TEXT  notes_5_TEXT notes_6_TEXT excluded  \\\n",
       "0          NaN          NaN           NaN          NaN      NaN   \n",
       "1          NaN          NaN           NaN          NaN      NaN   \n",
       "2          NaN          NaN           NaN          NaN      NaN   \n",
       "3          NaN          NaN           NaN          NaN      NaN   \n",
       "4          NaN          NaN           NaN          NaN      NaN   \n",
       "\n",
       "                    condition    date purchase meatveg meatveg2  \n",
       "0    control with elim pledge  13-Sep       FP     veg  vegprot  \n",
       "1  control with reduce pledge     NaN      NaN     NaN      NaN  \n",
       "2                      reduce     NaN      NaN     NaN      NaN  \n",
       "3                   eliminate     NaN      NaN     NaN      NaN  \n",
       "4  control with reduce pledge  13-Sep       FP     veg  vegprot  \n",
       "\n",
       "[5 rows x 54 columns]"
      ]
     },
     "execution_count": 106,
     "metadata": {},
     "output_type": "execute_result"
    }
   ],
   "source": [
    "data.head()"
   ]
  },
  {
   "cell_type": "code",
   "execution_count": 107,
   "metadata": {},
   "outputs": [
    {
     "data": {
      "text/plain": [
       "(833, 54)"
      ]
     },
     "execution_count": 107,
     "metadata": {},
     "output_type": "execute_result"
    }
   ],
   "source": [
    "data.shape"
   ]
  },
  {
   "cell_type": "code",
   "execution_count": 108,
   "metadata": {
    "scrolled": false
   },
   "outputs": [
    {
     "data": {
      "text/plain": [
       "Index(['Duration (in seconds)', 'Finished', 'RecordedDate', 'age',\n",
       "       'prev.participant', 'diet_1', 'diet_2', 'diet_9', 'diet_3', 'diet_4',\n",
       "       'diet_5', 'diet_10', 'diet_6', 'diet_7', 'diet_8', 'diet_7_TEXT',\n",
       "       'happy', 'bored', 'proud', 'angry', 'hopeful', 'red.open', 'elim.open',\n",
       "       'control.open', 'speciesism_1', 'speciesism_2', 'speciesism_3',\n",
       "       'speciesism_4', 'speciesism_5', 'speciesism_6', 'gender',\n",
       "       'gender_3_TEXT', 'status', 'status_5_TEXT', 'elim.pledge', 'red.pledge',\n",
       "       'ID', 'notes_7', 'notes_1', 'notes_2', 'notes_3', 'notes_4', 'notes_5',\n",
       "       'notes_6', 'notes_3_TEXT', 'notes_4_TEXT', 'notes_5_TEXT',\n",
       "       'notes_6_TEXT', 'excluded', 'condition', 'date', 'purchase', 'meatveg',\n",
       "       'meatveg2'],\n",
       "      dtype='object')"
      ]
     },
     "execution_count": 108,
     "metadata": {},
     "output_type": "execute_result"
    }
   ],
   "source": [
    "data.columns"
   ]
  },
  {
   "cell_type": "code",
   "execution_count": 109,
   "metadata": {
    "scrolled": false
   },
   "outputs": [
    {
     "name": "stdout",
     "output_type": "stream",
     "text": [
      "Duration (in seconds): 0 valores nulos\n",
      "Finished: 0 valores nulos\n",
      "RecordedDate: 0 valores nulos\n",
      "age: 0 valores nulos\n",
      "prev.participant: 0 valores nulos\n",
      "diet_1: 770 valores nulos\n",
      "diet_2: 807 valores nulos\n",
      "diet_9: 746 valores nulos\n",
      "diet_3: 823 valores nulos\n",
      "diet_4: 800 valores nulos\n",
      "diet_5: 831 valores nulos\n",
      "diet_10: 764 valores nulos\n",
      "diet_6: 833 valores nulos\n",
      "diet_7: 778 valores nulos\n",
      "diet_8: 289 valores nulos\n",
      "diet_7_TEXT: 779 valores nulos\n",
      "happy: 0 valores nulos\n",
      "bored: 2 valores nulos\n",
      "proud: 0 valores nulos\n",
      "angry: 0 valores nulos\n",
      "hopeful: 1 valores nulos\n",
      "red.open: 631 valores nulos\n",
      "elim.open: 635 valores nulos\n",
      "control.open: 432 valores nulos\n",
      "speciesism_1: 4 valores nulos\n",
      "speciesism_2: 2 valores nulos\n",
      "speciesism_3: 3 valores nulos\n",
      "speciesism_4: 2 valores nulos\n",
      "speciesism_5: 5 valores nulos\n",
      "speciesism_6: 4 valores nulos\n",
      "gender: 2 valores nulos\n",
      "gender_3_TEXT: 824 valores nulos\n",
      "status: 1 valores nulos\n",
      "status_5_TEXT: 829 valores nulos\n",
      "elim.pledge: 419 valores nulos\n",
      "red.pledge: 415 valores nulos\n",
      "ID: 0 valores nulos\n",
      "notes_7: 16 valores nulos\n",
      "notes_1: 832 valores nulos\n",
      "notes_2: 831 valores nulos\n",
      "notes_3: 832 valores nulos\n",
      "notes_4: 824 valores nulos\n",
      "notes_5: 833 valores nulos\n",
      "notes_6: 829 valores nulos\n",
      "notes_3_TEXT: 832 valores nulos\n",
      "notes_4_TEXT: 824 valores nulos\n",
      "notes_5_TEXT: 833 valores nulos\n",
      "notes_6_TEXT: 829 valores nulos\n",
      "excluded: 833 valores nulos\n",
      "condition: 0 valores nulos\n",
      "date: 216 valores nulos\n",
      "purchase: 216 valores nulos\n",
      "meatveg: 216 valores nulos\n",
      "meatveg2: 216 valores nulos\n"
     ]
    }
   ],
   "source": [
    "for col in data.columns:\n",
    "    print(col + \": \" + str(data[col].isna().sum()) + \" valores nulos\")"
   ]
  },
  {
   "cell_type": "markdown",
   "metadata": {},
   "source": [
    "## Trabajo de data wrangling\n",
    "\n",
    "Considerando que parte del enfoque va a ser en el score de especismo y que hay pocas observaciones faltantes en estas columnas, dropeamos las que tienen valores nulos."
   ]
  },
  {
   "cell_type": "code",
   "execution_count": 110,
   "metadata": {},
   "outputs": [],
   "source": [
    "data = data.dropna(subset=['speciesism_1', 'speciesism_2', 'speciesism_3', 'speciesism_4', 'speciesism_5', 'speciesism_6'])"
   ]
  },
  {
   "cell_type": "markdown",
   "metadata": {},
   "source": [
    "Creamos un nuevo DataFrame llamado \"Speciesism\" que contiene las columnas que nos indicarán el score de especismo, la edad, el género informado y la decisión que tomó acerca de reducir o eliminar (dependiendo del video que hayan visto)."
   ]
  },
  {
   "cell_type": "code",
   "execution_count": 111,
   "metadata": {},
   "outputs": [],
   "source": [
    "speciesism = data[['age', 'speciesism_1', 'speciesism_2', 'speciesism_3', 'speciesism_4', 'speciesism_5', 'speciesism_6', \n",
    "                   'gender', 'elim.pledge', 'red.pledge']]"
   ]
  },
  {
   "cell_type": "code",
   "execution_count": 112,
   "metadata": {},
   "outputs": [
    {
     "data": {
      "text/plain": [
       "(823, 10)"
      ]
     },
     "execution_count": 112,
     "metadata": {},
     "output_type": "execute_result"
    }
   ],
   "source": [
    "speciesism.shape"
   ]
  },
  {
   "cell_type": "code",
   "execution_count": 113,
   "metadata": {
    "scrolled": true
   },
   "outputs": [
    {
     "data": {
      "text/plain": [
       "age               0\n",
       "speciesism_1      0\n",
       "speciesism_2      0\n",
       "speciesism_3      0\n",
       "speciesism_4      0\n",
       "speciesism_5      0\n",
       "speciesism_6      0\n",
       "gender            1\n",
       "elim.pledge     416\n",
       "red.pledge      408\n",
       "dtype: int64"
      ]
     },
     "execution_count": 113,
     "metadata": {},
     "output_type": "execute_result"
    }
   ],
   "source": [
    "speciesism.isna().sum()"
   ]
  },
  {
   "cell_type": "markdown",
   "metadata": {},
   "source": [
    "Tomamos los valores informados en las encuestas de especismo y los convertimos en su equivalente numérico para calcular el socre. Mientras más alto el resultado, más especista es la persona. Es importante notar que en el caso de la pregunta 5, el score es inverso."
   ]
  },
  {
   "cell_type": "code",
   "execution_count": 114,
   "metadata": {},
   "outputs": [
    {
     "name": "stderr",
     "output_type": "stream",
     "text": [
      "C:\\Users\\valen\\Anaconda3\\lib\\site-packages\\pandas\\core\\generic.py:6786: SettingWithCopyWarning: \n",
      "A value is trying to be set on a copy of a slice from a DataFrame\n",
      "\n",
      "See the caveats in the documentation: http://pandas.pydata.org/pandas-docs/stable/user_guide/indexing.html#returning-a-view-versus-a-copy\n",
      "  self._update_inplace(new_data)\n"
     ]
    }
   ],
   "source": [
    "spec_cols = ['speciesism_1', 'speciesism_2', 'speciesism_3', 'speciesism_4', 'speciesism_6']\n",
    "\n",
    "\n",
    "for col in spec_cols:\n",
    "    speciesism[col].replace({\"Strongly agree\": 7, \"Agree\": 6, \"Somewhat agree\": 5, \"Neither agree nor disagree\": 4, \n",
    "                       \"Somewhat disagree\": 3, \"Disagree\": 2, \"Strongly disagree\": 1}, inplace=True)\n",
    "\n",
    "speciesism['speciesism_5'].replace({\"Strongly agree\": 1, \"Agree\": 2, \"Somewhat agree\": 3, \"Neither agree nor disagree\": 4, \n",
    "                       \"Somewhat disagree\": 5, \"Disagree\": 6, \"Strongly disagree\": 7}, inplace=True)"
   ]
  },
  {
   "cell_type": "markdown",
   "metadata": {},
   "source": [
    "Filtramos las edades sobre las que decidimos enfocarnos, que son las que más fácil es la aceptación del cambio y al mismo tiempo las que más observaciones tienen."
   ]
  },
  {
   "cell_type": "code",
   "execution_count": 115,
   "metadata": {},
   "outputs": [
    {
     "data": {
      "text/plain": [
       "21    155\n",
       "19    152\n",
       "20    139\n",
       "18    109\n",
       "22     82\n",
       "23     46\n",
       "24     29\n",
       "25     20\n",
       "26      9\n",
       "27      8\n",
       "33      8\n",
       "28      7\n",
       "29      7\n",
       "30      7\n",
       "32      5\n",
       "39      5\n",
       "38      5\n",
       "34      4\n",
       "37      3\n",
       "31      3\n",
       "35      2\n",
       "41      2\n",
       "43      2\n",
       "48      2\n",
       "59      2\n",
       "68      1\n",
       "42      1\n",
       "44      1\n",
       "45      1\n",
       "46      1\n",
       "49      1\n",
       "52      1\n",
       "53      1\n",
       "54      1\n",
       "70      1\n",
       "Name: age, dtype: int64"
      ]
     },
     "execution_count": 115,
     "metadata": {},
     "output_type": "execute_result"
    }
   ],
   "source": [
    "speciesism.age.value_counts()"
   ]
  },
  {
   "cell_type": "code",
   "execution_count": 116,
   "metadata": {
    "scrolled": true
   },
   "outputs": [],
   "source": [
    "age_mask = (speciesism['age'] >= 18) & (speciesism['age'] <= 30)\n",
    "\n",
    "speciesism = speciesism[age_mask]"
   ]
  },
  {
   "cell_type": "code",
   "execution_count": 117,
   "metadata": {
    "scrolled": true
   },
   "outputs": [
    {
     "data": {
      "text/plain": [
       "21    155\n",
       "19    152\n",
       "20    139\n",
       "18    109\n",
       "22     82\n",
       "23     46\n",
       "24     29\n",
       "25     20\n",
       "26      9\n",
       "27      8\n",
       "30      7\n",
       "29      7\n",
       "28      7\n",
       "Name: age, dtype: int64"
      ]
     },
     "execution_count": 117,
     "metadata": {},
     "output_type": "execute_result"
    }
   ],
   "source": [
    "speciesism.age.value_counts()"
   ]
  },
  {
   "cell_type": "markdown",
   "metadata": {},
   "source": [
    "Creamos una nueva columna, \"speciesism_score\", que es una suma de todos los valores de las columnas sobre especismo dividido la cantidad de columnas que suman al score."
   ]
  },
  {
   "cell_type": "code",
   "execution_count": 118,
   "metadata": {
    "scrolled": true
   },
   "outputs": [
    {
     "data": {
      "text/plain": [
       "0      4.166667\n",
       "1      2.000000\n",
       "2      1.500000\n",
       "3      3.000000\n",
       "4      3.000000\n",
       "         ...   \n",
       "828    2.333333\n",
       "829    3.333333\n",
       "830    3.500000\n",
       "831    4.500000\n",
       "832    1.333333\n",
       "Name: speciesism_score, Length: 770, dtype: float64"
      ]
     },
     "execution_count": 118,
     "metadata": {},
     "output_type": "execute_result"
    }
   ],
   "source": [
    "col_list = ['speciesism_1', 'speciesism_2', 'speciesism_3', 'speciesism_4', 'speciesism_5', 'speciesism_6']\n",
    "\n",
    "speciesism['speciesism_score'] = speciesism[col_list].sum(axis=1)/len(col_list)\n",
    "\n",
    "speciesism['speciesism_score']"
   ]
  },
  {
   "cell_type": "markdown",
   "metadata": {},
   "source": [
    "## Visualización de distribuciones\n",
    "\n",
    "En este apartado, vamos a empezar a explorar un poco las distribuciones de valores que encontramos en el score de especismo y la edad."
   ]
  },
  {
   "cell_type": "code",
   "execution_count": 119,
   "metadata": {},
   "outputs": [
    {
     "data": {
      "image/png": "[encoded data removed]",
      "text/plain": [
       "<Figure size 648x432 with 1 Axes>"
      ]
     },
     "metadata": {},
     "output_type": "display_data"
    }
   ],
   "source": [
    "bins_speciesism = np.linspace(0, 7, num=20, dtype=list)\n",
    "\n",
    "sns.set_style(\"ticks\")\n",
    "plt.figure(figsize=[9,6])\n",
    "plt.hist(speciesism['speciesism_score'], bins=bins_speciesism, alpha=0.3, color='b')\n",
    "\n",
    "plt.axvline(speciesism['speciesism_score'].mean(), color='r', linestyle='dashed', linewidth=1)\n",
    "\n",
    "plt.xlabel('Score de especismo', size= 14)\n",
    "plt.ylabel('Cantidad de observaciones', size= 14)\n",
    "plt.title('Distribución del score de especismo', fontdict={'fontsize': 18}, loc='center', fontweight='bold')\n",
    "\n",
    "plt.tight_layout()\n",
    "\n",
    "plt.savefig('Histograma score especismo.png')"
   ]
  },
  {
   "cell_type": "code",
   "execution_count": 120,
   "metadata": {
    "scrolled": true
   },
   "outputs": [
    {
     "data": {
      "image/png": "[encoded data removed]",
      "text/plain": [
       "<Figure size 648x432 with 1 Axes>"
      ]
     },
     "metadata": {},
     "output_type": "display_data"
    }
   ],
   "source": [
    "bins_edad = np.linspace(18, 30, num=13, dtype=list)\n",
    "\n",
    "sns.set_style(\"ticks\")\n",
    "plt.figure(figsize=[9,6])\n",
    "plt.hist(speciesism['age'], bins=bins_edad, alpha=0.3, color='b')\n",
    "\n",
    "plt.axvline(speciesism['age'].mean(), color='r', linestyle='dashed', linewidth=1)\n",
    "\n",
    "plt.xlabel('Edad', size= 14)\n",
    "plt.ylabel('Cantidad de observaciones', size= 14)\n",
    "plt.title('Distribución de edades en la encuesta', fontdict={'fontsize': 18}, loc='center', fontweight='bold')\n",
    "\n",
    "plt.tight_layout()\n",
    "\n",
    "plt.savefig('Histograma edades.png')"
   ]
  },
  {
   "cell_type": "markdown",
   "metadata": {},
   "source": [
    "Filtramos el dataset de especismo y lo separamos en dos: uno para quienes vieron el video de reducción de consumo de carne y otro para quienes vieron el video de eliminación de consumo. Seleccionamos únicamente los valores no nulos."
   ]
  },
  {
   "cell_type": "code",
   "execution_count": 121,
   "metadata": {},
   "outputs": [
    {
     "data": {
      "text/plain": [
       "Yes, I will pledge to reduce the amount of meat that I eat    238\n",
       "No, thanks                                                    158\n",
       "Name: red.pledge, dtype: int64"
      ]
     },
     "execution_count": 121,
     "metadata": {},
     "output_type": "execute_result"
    }
   ],
   "source": [
    "reduce_pledge = speciesism.loc[speciesism['red.pledge'].notnull()]\n",
    "reduce_pledge['red.pledge'].value_counts()"
   ]
  },
  {
   "cell_type": "code",
   "execution_count": 122,
   "metadata": {
    "scrolled": true
   },
   "outputs": [
    {
     "data": {
      "text/plain": [
       "No, thanks                                321\n",
       "Yes, I will pledge to stop eating meat     53\n",
       "Name: elim.pledge, dtype: int64"
      ]
     },
     "execution_count": 122,
     "metadata": {},
     "output_type": "execute_result"
    }
   ],
   "source": [
    "eliminate_pledge = speciesism.loc[speciesism['elim.pledge'].notnull()]\n",
    "eliminate_pledge['elim.pledge'].value_counts()"
   ]
  },
  {
   "cell_type": "markdown",
   "metadata": {},
   "source": [
    "Reemplazamos los valores originales de la encuesta por \"yes\" y \"no\" para simplificar el tratamiento de los datos y que las labels de los gráficos sean más legibles."
   ]
  },
  {
   "cell_type": "code",
   "execution_count": 123,
   "metadata": {
    "scrolled": true
   },
   "outputs": [
    {
     "name": "stderr",
     "output_type": "stream",
     "text": [
      "C:\\Users\\valen\\Anaconda3\\lib\\site-packages\\ipykernel_launcher.py:1: SettingWithCopyWarning: \n",
      "A value is trying to be set on a copy of a slice from a DataFrame.\n",
      "Try using .loc[row_indexer,col_indexer] = value instead\n",
      "\n",
      "See the caveats in the documentation: http://pandas.pydata.org/pandas-docs/stable/user_guide/indexing.html#returning-a-view-versus-a-copy\n",
      "  \"\"\"Entry point for launching an IPython kernel.\n",
      "C:\\Users\\valen\\Anaconda3\\lib\\site-packages\\ipykernel_launcher.py:2: SettingWithCopyWarning: \n",
      "A value is trying to be set on a copy of a slice from a DataFrame.\n",
      "Try using .loc[row_indexer,col_indexer] = value instead\n",
      "\n",
      "See the caveats in the documentation: http://pandas.pydata.org/pandas-docs/stable/user_guide/indexing.html#returning-a-view-versus-a-copy\n",
      "  \n"
     ]
    }
   ],
   "source": [
    "reduce_pledge['red.pledge'] = reduce_pledge['red.pledge'].replace({'Yes, I will pledge to reduce the amount of meat that I eat': 'Yes', 'No, thanks': 'No'})\n",
    "eliminate_pledge['elim.pledge'] = eliminate_pledge['elim.pledge'].replace({'Yes, I will pledge to stop eating meat': 'Yes', 'No, thanks': 'No'})"
   ]
  },
  {
   "cell_type": "markdown",
   "metadata": {},
   "source": [
    "Creamos las visualizaciones para ver la cantidad y los porcentajes de sí y no por tipo de promesa."
   ]
  },
  {
   "cell_type": "code",
   "execution_count": 124,
   "metadata": {},
   "outputs": [
    {
     "data": {
      "image/png": "[encoded data removed]",
      "text/plain": [
       "<Figure size 648x432 with 1 Axes>"
      ]
     },
     "metadata": {},
     "output_type": "display_data"
    }
   ],
   "source": [
    "countplt, ax_red = plt.subplots(figsize = (9,6))\n",
    "ax_red = sns.countplot(x=\"red.pledge\", data=reduce_pledge, palette=['#80b1d3','#fb8072'])\n",
    "\n",
    "sns.set_style(\"ticks\")\n",
    "\n",
    "total = float(len(reduce_pledge))\n",
    "\n",
    "# ax_red.patches[0]\n",
    "percentage_yes = '{:.1f}%'.format(100 * ax_red.patches[0].get_height()/total)\n",
    "x = 0.0075\n",
    "y = ax_red.patches[0].get_height()\n",
    "ax_red.annotate(percentage_yes, (x, y),ha='center', fontsize=15)\n",
    "\n",
    "# ax_red.patches[1]\n",
    "percentage_no = '{:.1f}%'.format(100 * ax_red.patches[1].get_height()/total)\n",
    "x = 1.005\n",
    "y = ax_red.patches[1].get_height()\n",
    "ax_red.annotate(percentage_no, (x, y),ha='center', fontsize=15)\n",
    "\n",
    "plt.xticks(fontsize=14)\n",
    "plt.yticks(fontsize=12)\n",
    "\n",
    "sns.despine()\n",
    "\n",
    "# ax labels\n",
    "ax_red.set_title(\"Promesa de reducción\", size=18, fontweight='bold')\n",
    "ax_red.set_xlabel('', size=14)\n",
    "ax_red.set_ylabel('Cantidad', size=15)\n",
    "\n",
    "plt.savefig('Countplot reducción.png')"
   ]
  },
  {
   "cell_type": "code",
   "execution_count": 125,
   "metadata": {
    "scrolled": true
   },
   "outputs": [
    {
     "data": {
      "image/png": "[encoded data removed]",
      "text/plain": [
       "<Figure size 648x432 with 1 Axes>"
      ]
     },
     "metadata": {},
     "output_type": "display_data"
    }
   ],
   "source": [
    "countplt, ax_el = plt.subplots(figsize = (9,6))\n",
    "ax_el = sns.countplot(x=\"elim.pledge\", data=eliminate_pledge, palette=['#80b1d3','#fb8072'], order=['Yes', 'No'])\n",
    "\n",
    "sns.set_style(\"ticks\")\n",
    "\n",
    "total = float(len(eliminate_pledge))\n",
    "\n",
    "# ax_el.patches[0]\n",
    "percentage_yes = '{:.1f}%'.format(100 * ax_el.patches[0].get_height()/total)\n",
    "x = 0.0075\n",
    "y = ax_el.patches[0].get_height()\n",
    "ax_el.annotate(percentage_yes, (x, y),ha='center', fontsize=15)\n",
    "\n",
    "# ax_el.patches[1]\n",
    "percentage_no = '{:.1f}%'.format(100 * ax_el.patches[1].get_height()/total)\n",
    "x = 1.005\n",
    "y = ax_el.patches[1].get_height()\n",
    "ax_el.annotate(percentage_no, (x, y),ha='center', fontsize=15)\n",
    "\n",
    "plt.xticks(fontsize=14)\n",
    "plt.yticks(fontsize=12)\n",
    "\n",
    "sns.despine()\n",
    "\n",
    "# ax labels\n",
    "ax_el.set_title(\"Promesa de eliminación\", size=18, fontweight='bold')\n",
    "ax_el.set_xlabel('', size=14)\n",
    "ax_el.set_ylabel('Cantidad', size=15)\n",
    "\n",
    "plt.savefig('Countplot eliminación.png')"
   ]
  },
  {
   "cell_type": "markdown",
   "metadata": {},
   "source": [
    "Separamos los valores de respuestas \"sí\" y \"no\" para ambos tipos de promesa y usarlos para elaborar los gráficos de distribución para cada una de ellas."
   ]
  },
  {
   "cell_type": "code",
   "execution_count": 126,
   "metadata": {},
   "outputs": [],
   "source": [
    "reduce_pledge_yes = reduce_pledge[reduce_pledge['red.pledge'] == 'Yes']\n",
    "reduce_pledge_no = reduce_pledge[reduce_pledge['red.pledge'] == 'No']\n",
    "eliminate_pledge_yes = eliminate_pledge[eliminate_pledge['elim.pledge'] == 'Yes']\n",
    "eliminate_pledge_no = eliminate_pledge[eliminate_pledge['elim.pledge'] == 'No']"
   ]
  },
  {
   "cell_type": "code",
   "execution_count": 127,
   "metadata": {},
   "outputs": [
    {
     "data": {
      "image/png": "[encoded data removed]",
      "text/plain": [
       "<Figure size 648x432 with 1 Axes>"
      ]
     },
     "metadata": {},
     "output_type": "display_data"
    }
   ],
   "source": [
    "bins_speciesism = np.linspace(0, 7, num=20, dtype=list)\n",
    "\n",
    "sns.set_style(\"ticks\")\n",
    "\n",
    "countplt, ax_el = plt.subplots(figsize = (9,6))\n",
    "ax_1 = plt.hist(reduce_pledge_yes['speciesism_score'], bins=bins_speciesism, alpha=0.3, color='b', histtype='barstacked', label='Reducir: yes')\n",
    "ax_2 = plt.hist(reduce_pledge_no['speciesism_score'], bins=bins_speciesism, alpha=0.3, color='r', histtype='barstacked', label='Reducir: no')\n",
    "\n",
    "plt.xlabel('Score de especismo', size= 14)\n",
    "plt.ylabel('Cantidad de observaciones', size= 14)\n",
    "plt.title('Distribución del score de especismo - reducción', fontdict={'fontsize': 18}, loc='center', fontweight='bold')\n",
    "\n",
    "plt.xticks(fontsize=14)\n",
    "plt.yticks(fontsize=14)\n",
    "\n",
    "plt.tight_layout()\n",
    "plt.legend()\n",
    "\n",
    "plt.savefig('Histograma score especismo reduccion.png')"
   ]
  },
  {
   "cell_type": "code",
   "execution_count": 128,
   "metadata": {},
   "outputs": [
    {
     "data": {
      "image/png": "[encoded data removed]",
      "text/plain": [
       "<Figure size 648x432 with 1 Axes>"
      ]
     },
     "metadata": {},
     "output_type": "display_data"
    }
   ],
   "source": [
    "bins_speciesism = np.linspace(0, 7, num=20, dtype=list)\n",
    "\n",
    "sns.set_style(\"ticks\")\n",
    "\n",
    "countplt, ax_el = plt.subplots(figsize = (9,6))\n",
    "ax_1 = plt.hist(eliminate_pledge_yes['speciesism_score'], bins=bins_speciesism, alpha=0.3, color='b', histtype='barstacked', label='Yes')\n",
    "ax_2 = plt.hist(eliminate_pledge_no['speciesism_score'], bins=bins_speciesism, alpha=0.3, color='r', histtype='barstacked', label='No')\n",
    "\n",
    "plt.xlabel('Score de especismo', size= 14)\n",
    "plt.ylabel('Cantidad de observaciones', size= 14)\n",
    "plt.title('Distribución del score de especismo - eliminación', fontdict={'fontsize': 18}, loc='center', fontweight='bold')\n",
    "\n",
    "plt.xticks(fontsize=14)\n",
    "plt.yticks(fontsize=14)\n",
    "\n",
    "plt.tight_layout()\n",
    "plt.legend()\n",
    "\n",
    "plt.savefig('Histograma score especismo eliminacion.png')"
   ]
  },
  {
   "cell_type": "code",
   "execution_count": 129,
   "metadata": {},
   "outputs": [],
   "source": [
    "median_score_reduce_yes = reduce_pledge_yes['speciesism_score'].median()\n",
    "median_score_reduce_no = reduce_pledge_no['speciesism_score'].median()\n",
    "median_score_eliminate_yes = eliminate_pledge_yes['speciesism_score'].median()\n",
    "median_score_eliminate_no = eliminate_pledge_no['speciesism_score'].median()"
   ]
  },
  {
   "cell_type": "code",
   "execution_count": 130,
   "metadata": {},
   "outputs": [
    {
     "data": {
      "text/html": [
       "<div>\n",
       "<style scoped>\n",
       "    .dataframe tbody tr th:only-of-type {\n",
       "        vertical-align: middle;\n",
       "    }\n",
       "\n",
       "    .dataframe tbody tr th {\n",
       "        vertical-align: top;\n",
       "    }\n",
       "\n",
       "    .dataframe thead th {\n",
       "        text-align: right;\n",
       "    }\n",
       "</style>\n",
       "<table border=\"1\" class=\"dataframe\">\n",
       "  <thead>\n",
       "    <tr style=\"text-align: right;\">\n",
       "      <th></th>\n",
       "      <th>type_of_median</th>\n",
       "      <th>median_score</th>\n",
       "    </tr>\n",
       "  </thead>\n",
       "  <tbody>\n",
       "    <tr>\n",
       "      <td>0</td>\n",
       "      <td>Reducir: yes</td>\n",
       "      <td>2.500000</td>\n",
       "    </tr>\n",
       "    <tr>\n",
       "      <td>1</td>\n",
       "      <td>Reducir: no</td>\n",
       "      <td>3.166667</td>\n",
       "    </tr>\n",
       "    <tr>\n",
       "      <td>2</td>\n",
       "      <td>Eliminar: yes</td>\n",
       "      <td>2.000000</td>\n",
       "    </tr>\n",
       "    <tr>\n",
       "      <td>3</td>\n",
       "      <td>Eliminar: no</td>\n",
       "      <td>3.000000</td>\n",
       "    </tr>\n",
       "  </tbody>\n",
       "</table>\n",
       "</div>"
      ],
      "text/plain": [
       "  type_of_median  median_score\n",
       "0   Reducir: yes      2.500000\n",
       "1    Reducir: no      3.166667\n",
       "2  Eliminar: yes      2.000000\n",
       "3   Eliminar: no      3.000000"
      ]
     },
     "execution_count": 130,
     "metadata": {},
     "output_type": "execute_result"
    }
   ],
   "source": [
    "data_median = {'type_of_median': ['Reducir: yes', 'Reducir: no', 'Eliminar: yes', 'Eliminar: no'], 'median_score': [median_score_reduce_yes, median_score_reduce_no, median_score_eliminate_yes, median_score_eliminate_no]}\n",
    "\n",
    "median_score_df = pd.DataFrame(data_median)\n",
    "\n",
    "median_score_df"
   ]
  },
  {
   "cell_type": "code",
   "execution_count": 131,
   "metadata": {},
   "outputs": [
    {
     "data": {
      "image/png": "[encoded data removed]",
      "text/plain": [
       "<Figure size 648x432 with 1 Axes>"
      ]
     },
     "metadata": {},
     "output_type": "display_data"
    }
   ],
   "source": [
    "sns.set_style(\"ticks\")\n",
    "sns.set_context(\"talk\")\n",
    "\n",
    "barplt, ax = plt.subplots(figsize = (9,6))\n",
    "ax = sns.barplot(x=\"type_of_median\", y='median_score', data=median_score_df, palette=['#8dd3c7','#fb8072','#80b1d3','#fdb462'])\n",
    "\n",
    "plt.xticks(fontsize=14)\n",
    "plt.yticks(fontsize=14)\n",
    "\n",
    "plt.xlabel('', size= 14)\n",
    "plt.ylabel('Mediana del score', size= 14)\n",
    "plt.title('Mediana del score para cada categoría', fontdict={'fontsize': 18}, loc='center', fontweight='bold')\n",
    "\n",
    "sns.despine()\n",
    "\n",
    "plt.savefig('Barplot score por categoria.png')"
   ]
  },
  {
   "cell_type": "code",
   "execution_count": 132,
   "metadata": {
    "scrolled": true
   },
   "outputs": [
    {
     "data": {
      "image/png": "[encoded data removed]",
      "text/plain": [
       "<Figure size 648x432 with 1 Axes>"
      ]
     },
     "metadata": {},
     "output_type": "display_data"
    }
   ],
   "source": [
    "medianprops = dict(linestyle='--', linewidth=1.5, color='#17202A')\n",
    "\n",
    "sns.set_style(\"ticks\")\n",
    "sns.set_context(\"talk\")\n",
    "\n",
    "fig, ax = plt.subplots()\n",
    "\n",
    "bplot= ax.boxplot([reduce_pledge_yes['speciesism_score'], reduce_pledge_no['speciesism_score'], eliminate_pledge_yes['speciesism_score'], eliminate_pledge_no['speciesism_score']], vert=True, patch_artist=True, labels=['Reducir: yes', 'Reducir: no', 'Eliminar: yes', 'Eliminar: no'], medianprops=medianprops)\n",
    "#ax.set_title('CO por estación', fontsize=20)\n",
    "\n",
    "colors = ['#8dd3c7','#fb8072','#80b1d3','#fdb462']\n",
    "\n",
    " \n",
    "for patch, color in zip(bplot['boxes'], colors):\n",
    "        patch.set_facecolor(color)\n",
    "    \n",
    "plt.xlabel('Tipo de promesa', size= 16)\n",
    "plt.ylabel('Score de especismo', size= 16)\n",
    "plt.title('Distribución del score', fontdict={'fontsize': 20}, loc='center', fontweight='bold')\n",
    "\n",
    "plt.xticks(fontsize=14)\n",
    "plt.yticks(fontsize=14)\n",
    "\n",
    "fig.set_size_inches(9, 6)\n",
    "\n",
    "sns.despine()\n",
    "\n",
    "plt.savefig('Boxplot distribucion score.png')"
   ]
  },
  {
   "cell_type": "code",
   "execution_count": null,
   "metadata": {},
   "outputs": [],
   "source": []
  },
  {
   "cell_type": "markdown",
   "metadata": {},
   "source": [
    "### Código adicional no utilizado"
   ]
  },
  {
   "cell_type": "code",
   "execution_count": 133,
   "metadata": {},
   "outputs": [],
   "source": [
    "mean_score_reduce_yes = reduce_pledge_yes['speciesism_score'].mean()\n",
    "mean_score_reduce_no = reduce_pledge_no['speciesism_score'].mean()\n",
    "mean_score_eliminate_yes = eliminate_pledge_yes['speciesism_score'].mean()\n",
    "mean_score_eliminate_no = eliminate_pledge_no['speciesism_score'].mean()"
   ]
  },
  {
   "cell_type": "code",
   "execution_count": 134,
   "metadata": {},
   "outputs": [
    {
     "data": {
      "text/html": [
       "<div>\n",
       "<style scoped>\n",
       "    .dataframe tbody tr th:only-of-type {\n",
       "        vertical-align: middle;\n",
       "    }\n",
       "\n",
       "    .dataframe tbody tr th {\n",
       "        vertical-align: top;\n",
       "    }\n",
       "\n",
       "    .dataframe thead th {\n",
       "        text-align: right;\n",
       "    }\n",
       "</style>\n",
       "<table border=\"1\" class=\"dataframe\">\n",
       "  <thead>\n",
       "    <tr style=\"text-align: right;\">\n",
       "      <th></th>\n",
       "      <th>type_of_mean</th>\n",
       "      <th>mean_score</th>\n",
       "    </tr>\n",
       "  </thead>\n",
       "  <tbody>\n",
       "    <tr>\n",
       "      <td>0</td>\n",
       "      <td>Reducir: yes</td>\n",
       "      <td>2.553221</td>\n",
       "    </tr>\n",
       "    <tr>\n",
       "      <td>1</td>\n",
       "      <td>Reducir: no</td>\n",
       "      <td>3.144515</td>\n",
       "    </tr>\n",
       "    <tr>\n",
       "      <td>2</td>\n",
       "      <td>Eliminar: yes</td>\n",
       "      <td>2.273585</td>\n",
       "    </tr>\n",
       "    <tr>\n",
       "      <td>3</td>\n",
       "      <td>Eliminar: no</td>\n",
       "      <td>3.014538</td>\n",
       "    </tr>\n",
       "  </tbody>\n",
       "</table>\n",
       "</div>"
      ],
      "text/plain": [
       "    type_of_mean  mean_score\n",
       "0   Reducir: yes    2.553221\n",
       "1    Reducir: no    3.144515\n",
       "2  Eliminar: yes    2.273585\n",
       "3   Eliminar: no    3.014538"
      ]
     },
     "execution_count": 134,
     "metadata": {},
     "output_type": "execute_result"
    }
   ],
   "source": [
    "data_mean = {'type_of_mean': ['Reducir: yes', 'Reducir: no', 'Eliminar: yes', 'Eliminar: no'], 'mean_score': [mean_score_reduce_yes, mean_score_reduce_no, mean_score_eliminate_yes, mean_score_eliminate_no]}\n",
    "\n",
    "mean_score_df = pd.DataFrame(data_mean)\n",
    "\n",
    "mean_score_df"
   ]
  },
  {
   "cell_type": "code",
   "execution_count": 135,
   "metadata": {},
   "outputs": [
    {
     "data": {
      "image/png": "[encoded data removed]",
      "text/plain": [
       "<Figure size 432x288 with 1 Axes>"
      ]
     },
     "metadata": {},
     "output_type": "display_data"
    }
   ],
   "source": [
    "ax = sns.barplot(x=\"type_of_mean\", y='mean_score', data=mean_score_df)"
   ]
  }
 ],
 "metadata": {
  "kernelspec": {
   "display_name": "Python 3",
   "language": "python",
   "name": "python3"
  },
  "language_info": {
   "codemirror_mode": {
    "name": "ipython",
    "version": 3
   },
   "file_extension": ".py",
   "mimetype": "text/x-python",
   "name": "python",
   "nbconvert_exporter": "python",
   "pygments_lexer": "ipython3",
   "version": "3.7.4"
  }
 },
 "nbformat": 4,
 "nbformat_minor": 2
}
